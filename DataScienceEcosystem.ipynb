{
 "cells": [
  {
   "cell_type": "markdown",
   "id": "ea1463fe-3fcb-4774-81ff-b880f23d5dd9",
   "metadata": {},
   "source": [
    "# Data Science Tools and Ecosystem"
   ]
  },
  {
   "cell_type": "markdown",
   "id": "2cfabf52-917f-48dd-b0ad-bf7323d9a7bb",
   "metadata": {},
   "source": [
    "In this notebook, Data Science Tools and Ecosystem are summarized."
   ]
  },
  {
   "cell_type": "markdown",
   "id": "63f92fc4-f8d3-4b54-bf17-56e3eb643e8f",
   "metadata": {},
   "source": [
    "**Objectives:**\n",
    "\n",
    "* List popular languages.\n",
    "* List popular libraries.\n",
    "* List IDE's\n",
    "* Show basic arithmetic"
   ]
  },
  {
   "cell_type": "markdown",
   "id": "e031d7f0-866c-4d14-b8a2-81ecd4b9846f",
   "metadata": {},
   "source": [
    "Some of the popular languages that Data Scientists use are:\n",
    "\n",
    "1. Python\n",
    "2. R\n",
    "3. SQL\n",
    "4. Julia\n",
    "5. SAS\n",
    "6. MATLAB\n",
    "7. Scala\n",
    "8. Java\n",
    "9. Ruby\n",
    "10. Perl"
   ]
  },
  {
   "cell_type": "markdown",
   "id": "40bd72ba-79f2-40cd-98f0-47777187ac77",
   "metadata": {},
   "source": [
    "Some of the commonly used libraries used by Data Scientists include:\n",
    "\n",
    "1. NumPy\n",
    "2. pandas\n",
    "3. matplotlib\n",
    "4. Seaborn\n",
    "5. scikit-learn\n",
    "6. TensorFlow\n",
    "7. Pytorch\n",
    "8. SciPy\n",
    "9. statsmodels\n",
    "10. Natural Language Toolkit"
   ]
  },
  {
   "cell_type": "markdown",
   "id": "60b690d4-e121-4935-9456-d65d489901c8",
   "metadata": {
    "tags": []
   },
   "source": [
    "|Data Science Tools|\n",
    "| ----- |\n",
    "| Jupyter Notebook |\n",
    "| Rstudio |\n",
    "| VS Code |"
   ]
  },
  {
   "cell_type": "markdown",
   "id": "1ac81fc6-902e-4ab4-a970-4f62138ed888",
   "metadata": {},
   "source": [
    "### Below are a few examples of evaluating arithmetic expressions in Python:"
   ]
  },
  {
   "cell_type": "code",
   "execution_count": 3,
   "id": "73e9dd8d-ed98-46f0-a750-284e39f3bcf1",
   "metadata": {},
   "outputs": [
    {
     "data": {
      "text/plain": [
       "17"
      ]
     },
     "execution_count": 3,
     "metadata": {},
     "output_type": "execute_result"
    }
   ],
   "source": [
    "# This a simple arithmetic expression to mutiply then add integers\n",
    "(3*4)+5"
   ]
  },
  {
   "cell_type": "code",
   "execution_count": 5,
   "id": "b4607f06-2fdb-4133-96d3-824f36180b8d",
   "metadata": {},
   "outputs": [
    {
     "data": {
      "text/plain": [
       "3.3333333333333335"
      ]
     },
     "execution_count": 5,
     "metadata": {},
     "output_type": "execute_result"
    }
   ],
   "source": [
    "# This will convert 200 minutes to hours by dividing by 60\n",
    "\n",
    "200/60"
   ]
  },
  {
   "cell_type": "markdown",
   "id": "a1c99a14-0649-4514-a6c5-43039639ae2a",
   "metadata": {},
   "source": [
    "## Author\n",
    "Roye Bustan"
   ]
  }
 ],
 "metadata": {
  "kernelspec": {
   "display_name": "Python 3 (ipykernel)",
   "language": "python",
   "name": "python3"
  },
  "language_info": {
   "codemirror_mode": {
    "name": "ipython",
    "version": 3
   },
   "file_extension": ".py",
   "mimetype": "text/x-python",
   "name": "python",
   "nbconvert_exporter": "python",
   "pygments_lexer": "ipython3",
   "version": "3.9.13"
  }
 },
 "nbformat": 4,
 "nbformat_minor": 5
}
